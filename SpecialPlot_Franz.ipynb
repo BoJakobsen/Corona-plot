{
 "cells": [
  {
   "cell_type": "markdown",
   "metadata": {},
   "source": [
    "Notebook for plotting Corona data from SSI togeter with temperature data from DMI\n",
    "This was just for fun, suggested by a frind (Franz hence the name).,\n",
    "\n",
    "Run SSI_get_data first to get a dataset of the right format.\n",
    "SSI Data are read from subfolder : data\n",
    "Date of current SSI dataset is read from : data_date.dat \n",
    "\n",
    "Temperature data can be downloaded from https://www.dmi.dk/vejrarkiv/ (you need to do a bit of klicking to get mean temperature on a month basis.\n",
    "\n",
    "This notebook is not in any way robust, or generic, some stuff is just handcoded to the case of the actual data. \n"
   ]
  },
  {
   "cell_type": "code",
   "execution_count": null,
   "metadata": {},
   "outputs": [],
   "source": [
    "%matplotlib notebook\n",
    "import matplotlib.pyplot as plt\n",
    "import matplotlib\n",
    "import pandas as pd\n",
    "from pathlib import Path\n",
    "from datetime import date, timedelta\n",
    "import pickle\n",
    "from matplotlib import cm"
   ]
  },
  {
   "cell_type": "code",
   "execution_count": null,
   "metadata": {},
   "outputs": [],
   "source": [
    "# Read date of last data-download SSI data\n",
    "f = open(\"data_date.dat\", 'rb')\n",
    "date_str=pickle.load(f)\n",
    "f.close()\n",
    "\n",
    "print(\"Dataset is from: \" + date_str)\n",
    "\n",
    "#define the file to read and read it\n",
    "datafolder=Path(\"data/\")\n",
    "datafile=datafolder / \"Test_pos_over_time.csv\"\n",
    "df=pd.read_csv(datafile,  sep=';', parse_dates=['Date'], index_col=['Date'],error_bad_lines=False, engine='python', skipfooter=2, decimal=',', thousands='.')"
   ]
  },
  {
   "cell_type": "code",
   "execution_count": null,
   "metadata": {},
   "outputs": [],
   "source": [
    "# Read temperature data \n",
    "\n",
    "datafile=\"hele-landet-december-2020.csv\"\n",
    "df_temp=pd.read_csv(datafile, parse_dates=['DateTime'], index_col=['DateTime'],quotechar='\"', sep=';',error_bad_lines=False, engine='python', decimal=',', thousands='.', encoding = 'utf8')\n",
    "\n",
    "datafile=\"hele-landet-november-2020.csv\"\n",
    "x=pd.read_csv(datafile, parse_dates=['DateTime'], index_col=['DateTime'],quotechar='\"', sep=';',error_bad_lines=False, engine='python', decimal=',', thousands='.', encoding = 'utf8')\n",
    "df_temp=df_temp.append(x)\n",
    "\n",
    "datafile=\"hele-landet-januar-2021.csv\"\n",
    "x=pd.read_csv(datafile, parse_dates=['DateTime'], index_col=['DateTime'],quotechar='\"', sep=';',error_bad_lines=False, engine='python', decimal=',', thousands='.', encoding = 'utf8')\n",
    "df_temp=df_temp.append(x)\n",
    "\n"
   ]
  },
  {
   "cell_type": "code",
   "execution_count": null,
   "metadata": {},
   "outputs": [],
   "source": [
    "# merge the two datasets based on date index\n",
    "merge=pd.merge(df,df_temp, how='inner', left_index=True, right_index=True)"
   ]
  },
  {
   "cell_type": "code",
   "execution_count": null,
   "metadata": {},
   "outputs": [],
   "source": [
    "merge"
   ]
  },
  {
   "cell_type": "code",
   "execution_count": null,
   "metadata": {},
   "outputs": [],
   "source": [
    "# Calculate a numeric value for the age of the data, for use in color bar plot\n",
    "def Dtime (row):\n",
    "    #print(row.name)\n",
    "    return (row.name-merge.index.max()).days\n",
    "    \n",
    "merge['DeltaDay']=merge.apply(lambda row: Dtime(row), axis=1)"
   ]
  },
  {
   "cell_type": "code",
   "execution_count": null,
   "metadata": {
    "scrolled": true
   },
   "outputs": [],
   "source": [
    "merge"
   ]
  },
  {
   "cell_type": "code",
   "execution_count": null,
   "metadata": {
    "scrolled": true
   },
   "outputs": [],
   "source": [
    "# Simpel fingure\n",
    "ax=merge.plot(x='Middel', y='PosPct', title='Franz Plot (1. November 2020 - 15. Januar 2021)', style='.',label='');\n",
    "ax.set_ylabel(\"Posetiv procent\");\n",
    "ax.set_xlabel(\"Middel temperature i dk\");\n"
   ]
  },
  {
   "cell_type": "code",
   "execution_count": null,
   "metadata": {},
   "outputs": [],
   "source": [
    "#nice figure which also incodes the time of the datapoints\n",
    "\n",
    "cmap = cm.get_cmap('cool') # Colour map \n",
    "fig, ax = plt.subplots(1)\n",
    "\n",
    "im=ax.scatter(merge.Middel, merge.PosPct, c=merge.DeltaDay, s=50, cmap=cmap, edgecolor='None')\n",
    "plt.title('Franz Plot (1. November 2020 - 15. Januar 2021)')\n",
    "\n",
    "# This is VERY manuelly made, should be generalized to automatically find nice places to put tic and labels\n",
    "cbar=plt.colorbar(im, ticks=[-75, -45, -14])\n",
    "cbar.ax.set_yticklabels(['2020-11-01', '2020-12-01', '2021-01-01'])\n",
    "\n",
    "ax.set_ylabel(\"Corona Positiv procent (SSI data)\");\n",
    "ax.set_xlabel(\"Middeltemperature i Danmark (DMI data)\");\n",
    "\n",
    "plt.show()\n",
    "\n",
    "\n",
    "#save a pdf for printing\n",
    "#plt.savefig('SpecialPlot_Franz_20210115.pdf')"
   ]
  },
  {
   "cell_type": "code",
   "execution_count": null,
   "metadata": {},
   "outputs": [],
   "source": []
  }
 ],
 "metadata": {
  "kernelspec": {
   "display_name": "Python 3",
   "language": "python",
   "name": "python3"
  },
  "language_info": {
   "codemirror_mode": {
    "name": "ipython",
    "version": 3
   },
   "file_extension": ".py",
   "mimetype": "text/x-python",
   "name": "python",
   "nbconvert_exporter": "python",
   "pygments_lexer": "ipython3",
   "version": "3.8.5"
  }
 },
 "nbformat": 4,
 "nbformat_minor": 4
}
