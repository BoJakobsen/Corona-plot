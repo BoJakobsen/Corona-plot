{
 "cells": [
  {
   "cell_type": "code",
   "execution_count": null,
   "metadata": {},
   "outputs": [],
   "source": [
    "# %matplotlib notebook\n",
    "import matplotlib.pyplot as plt\n",
    "import pandas as pd\n",
    "from pathlib import Path\n",
    "import requests\n",
    "import zipfile\n",
    "from bs4 import BeautifulSoup\n",
    "from urllib.request import Request, urlopen\n",
    "from datetime import date, timedelta"
   ]
  },
  {
   "cell_type": "code",
   "execution_count": null,
   "metadata": {},
   "outputs": [],
   "source": [
    "#Limit dates to plot\n",
    "N_days=60 # number of days to include\n",
    "#N_days=150 # number of days to include\n",
    "bad_cutoff=2500 # minimum number of tests to consider good\n",
    "#bad_cutoff=100"
   ]
  },
  {
   "cell_type": "code",
   "execution_count": null,
   "metadata": {},
   "outputs": [],
   "source": [
    "# Read datafile\n",
    "\n",
    "#define the file to read\n",
    "datafolder=Path(\"data/\")\n",
    "datafile=datafolder / \"Municipality_cases_time_series.csv\"\n",
    "\n",
    "# Converts index to date\n",
    "# Notice handeling of danish format of the numbers (both decimal and thousands)\n",
    "df_cases=pd.read_csv(datafile,  sep=';', parse_dates=['date_sample'], index_col=['date_sample'],error_bad_lines=False, engine='python', decimal=',', thousands='.')\n",
    "\n",
    "# look at Copenhagen\n",
    "df_cases_sel=df_cases['Copenhagen']"
   ]
  },
  {
   "cell_type": "code",
   "execution_count": null,
   "metadata": {},
   "outputs": [],
   "source": [
    "#define the file to read\n",
    "datafolder=Path(\"data/\")\n",
    "datafile=datafolder / \"Municipality_tested_persons_time_series.csv\"\n",
    "\n",
    "# Skips last two lines (which does not convert to date) and converts index to date\n",
    "# Notice handeling of danish format of the numbers (both decimal and thousands)\n",
    "df_tests=pd.read_csv(datafile,  sep=';', parse_dates=['PrDate_adjusted'], index_col=['PrDate_adjusted'],error_bad_lines=False, engine='python', decimal=',', thousands='.')\n",
    "\n",
    "df_tests_sel=df_tests['Copenhagen']"
   ]
  },
  {
   "cell_type": "code",
   "execution_count": null,
   "metadata": {},
   "outputs": [],
   "source": [
    "# merge data based on dates (CHECK the result)\n",
    "df=df_cases_sel.to_frame().merge(df_tests_sel.to_frame(),left_index=True, right_index=True)\n",
    "df=df.rename(columns={\"Copenhagen_x\": \"NewPositive\", \"Copenhagen_y\": \"NotPrevPos\"})\n",
    "df"
   ]
  },
  {
   "cell_type": "code",
   "execution_count": null,
   "metadata": {},
   "outputs": [],
   "source": [
    "# calculate some more numbers\n",
    "\n",
    "# Positive emperical scaled by number of tests to power of 0.7  \n",
    "# This scaling is based on results in \n",
    "# SSI \"Ekspertrapport af d. 23. oktober 2020 Incidens og fremskrivning af COVID-19 tilfælde\"\n",
    "# https://www.ssi.dk/-/media/ssi-files/ekspertrapport-af-den-23-oktober-2020-incidens-og-fremskrivning-af-covid19-tilflde.pdf?la=da\n",
    "def calcScaledNumber (row):\n",
    "    if row.NotPrevPos > 0 :\n",
    "        return row.NewPositive / (row.NotPrevPos**0.7) * 10000**0.7 / 10000 *100#Normalized positiv procent to 50000 tests\n",
    "    else:\n",
    "        return 0\n",
    "    \n",
    "df['ScaledNumber']=df.apply(lambda row: calcScaledNumber(row), axis=1)    \n",
    "\n",
    "# Recalculate Positiv procent to get more decimals for plotting\n",
    "def calcPosPct (row):\n",
    "    if row.NotPrevPos > 0 :\n",
    "        return row.NewPositive / row.NotPrevPos * 100\n",
    "    else:\n",
    "        return 0\n",
    "df['PosPct']=df.apply(lambda row: calcPosPct(row), axis=1)"
   ]
  },
  {
   "cell_type": "code",
   "execution_count": null,
   "metadata": {},
   "outputs": [],
   "source": [
    "# for easy plot make a sub data frame with selected number of days \n",
    "df_sel=df[date.today()-timedelta(days=N_days):]\n",
    "\n",
    "# and make index for \"bad\" datapoints\n",
    "bad_idx=df_sel['NotPrevPos']<bad_cutoff"
   ]
  },
  {
   "cell_type": "code",
   "execution_count": null,
   "metadata": {},
   "outputs": [],
   "source": [
    "# define a common title including date from file\n",
    "#Define date of today used format\n",
    "d=date.today()\n",
    "date_str=d.strftime(\"%d%m%Y\")\n",
    "title_str='SSI COVID-19 data, tilfælde opgjort på prøvetagningsdato \\n KØBENHAVN \\n' \n",
    "title_str += date_str"
   ]
  },
  {
   "cell_type": "code",
   "execution_count": null,
   "metadata": {},
   "outputs": [],
   "source": [
    "axs=[None]*4 #define axs list as empty 4 entries\n",
    "fig = plt.figure(figsize=(7, 15))\n",
    "axs[0] = plt.subplot(411)\n",
    "axs[1] = plt.subplot(412,sharex=axs[0])\n",
    "axs[2] = plt.subplot(413,sharex=axs[0])\n",
    "axs[3] = plt.subplot(414,sharex=axs[0])\n",
    "\n",
    "\n",
    "df_sel.plot(ax=axs[0],y='PosPct',title=title_str,label='NewPositive / NotPrevPosTested * 100',style='.');\n",
    "df_sel[bad_idx].plot(ax=axs[0],y='PosPct',style='.',color='red',label='NewPositive / NotPrevPosTested * 100 (Tested<'+ str(bad_cutoff) + ')');\n",
    "axs[0].set_ylabel(\"%\");\n",
    "axs[0].set_ylim(0,5.5)\n",
    "axs[0].tick_params(which='both', bottom=True, top=True, left=True, right=True, direction='in')\n",
    "\n",
    "df_sel.plot(ax=axs[1], y='ScaledNumber',label='NewPositive/NotPrevPosTested^0.7 * 10.000^0.7 / 10.000 *100',style='.');\n",
    "df_sel[bad_idx].plot(ax=axs[1],y='ScaledNumber',style='.',color='red', label=' (Tested<'+ str(bad_cutoff) + ')');\n",
    "axs[1].set_ylabel(\"Positiv Procent [Estimated for 10.000 tests]\");\n",
    "axs[1].tick_params(which='both', bottom=True, top=True, left=True, right=True, direction='in')\n",
    "axs[1].set_ylim(0,5.5)\n",
    "\n",
    "\n",
    "df_sel.plot(ax=axs[2],y='NewPositive',style='.');\n",
    "df_sel[bad_idx].plot(ax=axs[2],y='NewPositive',style='.',color='red',label='NewPositive (Tested<'+ str(bad_cutoff) + ')');\n",
    "axs[2].tick_params(which='both', bottom=True, top=True, left=True, right=True, direction='in')\n",
    "\n",
    "df_sel.plot(ax=axs[3],y='NotPrevPos',label='Tested (NotPrevPos)',style='.');\n",
    "df_sel[bad_idx].plot(ax=axs[3],y='NotPrevPos',style='.',color='red',label='Tested<'+ str(bad_cutoff) + '');\n",
    "axs[3].tick_params(which='both', bottom=True, top=True, left=True, right=True, direction='in')\n"
   ]
  },
  {
   "cell_type": "code",
   "execution_count": null,
   "metadata": {},
   "outputs": [],
   "source": []
  }
 ],
 "metadata": {
  "kernelspec": {
   "display_name": "Python 3",
   "language": "python",
   "name": "python3"
  },
  "language_info": {
   "codemirror_mode": {
    "name": "ipython",
    "version": 3
   },
   "file_extension": ".py",
   "mimetype": "text/x-python",
   "name": "python",
   "nbconvert_exporter": "python",
   "pygments_lexer": "ipython3",
   "version": "3.8.5"
  }
 },
 "nbformat": 4,
 "nbformat_minor": 4
}
