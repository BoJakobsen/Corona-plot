{
 "cells": [
  {
   "cell_type": "markdown",
   "metadata": {},
   "source": [
    "Notebook for plotting Corona data from SSI \n",
    "\n",
    "Run SSI_get_data and ssh_get_private_udbydere_data first to get a dataset of the right format.\n",
    "\n",
    "Data are read from subfolder : data\n",
    "Date of current dataset is read from : data_date.dat \n",
    "Data from \"private udbydere\" is read from : data_private.dat"
   ]
  },
  {
   "cell_type": "code",
   "execution_count": null,
   "metadata": {},
   "outputs": [],
   "source": [
    "#Limit dates to plot\n",
    "N_days=60 # number of days to include\n",
    "#N_days=150 # number of days to include\n",
    "bad_cutoff=25000 # minimum number of tests to consider good\n",
    "#bad_cutoff=100"
   ]
  },
  {
   "cell_type": "code",
   "execution_count": null,
   "metadata": {},
   "outputs": [],
   "source": [
    "%matplotlib notebook\n",
    "import matplotlib.pyplot as plt\n",
    "import pandas as pd\n",
    "from pathlib import Path\n",
    "from datetime import date, timedelta\n",
    "import pickle"
   ]
  },
  {
   "cell_type": "code",
   "execution_count": null,
   "metadata": {},
   "outputs": [],
   "source": [
    "# Read date of last data-download\n",
    "\n",
    "f = open(\"data_date.dat\", 'rb')\n",
    "date_str=pickle.load(f)\n",
    "f.close()\n",
    "\n",
    "print(\"Dataset is from: \" + date_str)"
   ]
  },
  {
   "cell_type": "code",
   "execution_count": null,
   "metadata": {},
   "outputs": [],
   "source": [
    "#define the file to read\n",
    "datafolder=Path(\"data/\")\n",
    "datafile=datafolder / \"Test_pos_over_time.csv\""
   ]
  },
  {
   "cell_type": "code",
   "execution_count": null,
   "metadata": {},
   "outputs": [],
   "source": [
    "# Read datafile\n",
    "# Skips last two lines (which does not convert to date) and converts index to date\n",
    "# Notice handeling of danish format of the numbers (both decimal and thousands)\n",
    "df=pd.read_csv(datafile,  sep=';', parse_dates=['Date'], index_col=['Date'],error_bad_lines=False, engine='python', skipfooter=2, decimal=',', thousands='.')\n"
   ]
  },
  {
   "cell_type": "code",
   "execution_count": null,
   "metadata": {},
   "outputs": [],
   "source": [
    "# calculate some more numbers\n",
    "\n",
    "# Positive emperical scaled by number of tests to power of 0.7  \n",
    "# This scaling is based on results in \n",
    "# SSI \"Ekspertrapport af d. 23. oktober 2020 Incidens og fremskrivning af COVID-19 tilfælde\"\n",
    "# https://www.ssi.dk/-/media/ssi-files/ekspertrapport-af-den-23-oktober-2020-incidens-og-fremskrivning-af-covid19-tilflde.pdf?la=da\n",
    "def calcScaledNumber (row):\n",
    "    if row.NotPrevPos > 0 :\n",
    "        return row.NewPositive / (row.NotPrevPos**0.7) * 50000**0.7 / 50000 *100#Normalized positiv procent to 50000 tests\n",
    "    else:\n",
    "        return 0\n",
    "    \n",
    "df['ScaledNumber']=df.apply(lambda row: calcScaledNumber(row), axis=1)    \n",
    "\n",
    "# Recalculate Positiv procent to get more decimals for plotting\n",
    "def calcPosPct (row):\n",
    "    if row.NotPrevPos > 0 :\n",
    "        return row.NewPositive / row.NotPrevPos * 100\n",
    "    else:\n",
    "        return 0\n",
    "df['PosPct']=df.apply(lambda row: calcPosPct(row), axis=1)\n"
   ]
  },
  {
   "cell_type": "code",
   "execution_count": null,
   "metadata": {},
   "outputs": [],
   "source": [
    "#read data from \"private udbydere\"\n",
    "#very experimental, based on the SSI_get_private_udbydere_data.ipynb notebook\n",
    "\n",
    "f = open(\"data_private.dat\", 'rb')\n",
    "PU_data=pickle.load(f)\n",
    "f.close()"
   ]
  },
  {
   "cell_type": "code",
   "execution_count": null,
   "metadata": {},
   "outputs": [],
   "source": [
    "# for easy plot make a sub data frame with selected number of days \n",
    "df_sel=df[date.today()-timedelta(days=N_days):]\n",
    "\n",
    "# and make index for \"bad\" datapoints\n",
    "bad_idx=df_sel['NotPrevPos']<bad_cutoff"
   ]
  },
  {
   "cell_type": "code",
   "execution_count": null,
   "metadata": {},
   "outputs": [],
   "source": [
    "# define a common title including date from file\n",
    "title_str='SSI COVID-19 data, tilfælde opgjort på prøvetagningsdato \\n' \n",
    "title_str += date_str"
   ]
  },
  {
   "cell_type": "code",
   "execution_count": null,
   "metadata": {
    "scrolled": true
   },
   "outputs": [],
   "source": [
    "axs=[None]*3 #define axs list as empty 3 entries\n",
    "fig = plt.figure(figsize=(7, 10))\n",
    "axs[0] = plt.subplot(311)\n",
    "axs[1] = plt.subplot(312,sharex=axs[0])\n",
    "axs[2] = plt.subplot(313,sharex=axs[0])\n",
    "\n",
    "\n",
    "df_sel.plot(ax=axs[0],y='PosPct',title=title_str,label='NewPositive / NotPrevPosTested * 100',style='.');\n",
    "df_sel[bad_idx].plot(ax=axs[0],y='PosPct',style='.',color='red',label='NewPositive / NotPrevPosTested * 100 (Tested<'+ str(bad_cutoff) + ')');\n",
    "axs[0].set_ylabel(\"%\");\n",
    "axs[0].set_ylim(0,2)\n",
    "\n",
    "df_sel.plot(ax=axs[1],y='NewPositive',style='.');\n",
    "df_sel[bad_idx].plot(ax=axs[1],y='NewPositive',style='.',color='red',label='NewPositive (Tested<'+ str(bad_cutoff) + ')');\n",
    "\n",
    "df_sel.plot(ax=axs[2],y='NotPrevPos',label='Tested (NotPrevPos)',style='.');\n",
    "df_sel[bad_idx].plot(ax=axs[2],y='NotPrevPos',style='.',color='red',label='Tested<'+ str(bad_cutoff) + '');"
   ]
  },
  {
   "cell_type": "code",
   "execution_count": null,
   "metadata": {
    "scrolled": false
   },
   "outputs": [],
   "source": [
    "axs=[None]*4 #define axs list as empty 4 entries\n",
    "fig = plt.figure(figsize=(7, 15))\n",
    "axs[0] = plt.subplot(411)\n",
    "axs[1] = plt.subplot(412,sharex=axs[0])\n",
    "axs[2] = plt.subplot(413,sharex=axs[0])\n",
    "axs[3] = plt.subplot(414,sharex=axs[0])\n",
    "\n",
    "\n",
    "df_sel.plot(ax=axs[0],y='PosPct',title=title_str,label='NewPositive / NotPrevPosTested * 100',style='.');\n",
    "df_sel[bad_idx].plot(ax=axs[0],y='PosPct',style='.',color='red',label='NewPositive / NotPrevPosTested * 100 (Tested<'+ str(bad_cutoff) + ')');\n",
    "PU_data.plot(ax=axs[0],y='Positiv procent antigen',style='.',color='lime',label='Positiv / Tested * 100 (quick test: \"antigen test\")');\n",
    "axs[0].set_ylabel(\"%\");\n",
    "axs[0].set_ylim(0,4.5)\n",
    "axs[0].tick_params(which='both', bottom=True, top=True, left=True, right=True, direction='in')\n",
    "\n",
    "df_sel.plot(ax=axs[1], y='ScaledNumber',label='NewPositive/NotPrevPosTested^0.7 * 50.000^0.7 / 50.000 *100',style='.');\n",
    "df_sel[bad_idx].plot(ax=axs[1],y='ScaledNumber',style='.',color='red', label=' (Tested<'+ str(bad_cutoff) + ')');\n",
    "axs[1].set_ylabel(\"Positiv Procent [Estimated for 50.000 tests]\");\n",
    "axs[1].tick_params(which='both', bottom=True, top=True, left=True, right=True, direction='in')\n",
    "axs[1].set_ylim(0,4.5)\n",
    "\n",
    "df_sel.plot(ax=axs[2],y='NewPositive',style='.');\n",
    "df_sel[bad_idx].plot(ax=axs[2],y='NewPositive',style='.',color='red',label='NewPositive (Tested<'+ str(bad_cutoff) + ')');\n",
    "PU_data.plot(ax=axs[2],y='Antal positiv antigen tests',style='.',color='lime',label='Positiv (quick test: \"antigen test\")');\n",
    "axs[2].tick_params(which='both', bottom=True, top=True, left=True, right=True, direction='in')\n",
    "\n",
    "df_sel.plot(ax=axs[3],y='NotPrevPos',label='Tested (NotPrevPos)',style='.');\n",
    "df_sel[bad_idx].plot(ax=axs[3],y='NotPrevPos',style='.',color='red',label='Tested<'+ str(bad_cutoff) + '');\n",
    "PU_data.plot(ax=axs[3],y='Antal antigen tests',style='.',color='lime',label='Tested (quick test: \"antigen test\")');\n",
    "axs[3].tick_params(which='both', bottom=True, top=True, left=True, right=True, direction='in')\n",
    "\n",
    "#save a pdf for printing\n",
    "plt.savefig('All4.pdf')  "
   ]
  },
  {
   "cell_type": "code",
   "execution_count": null,
   "metadata": {},
   "outputs": [],
   "source": []
  }
 ],
 "metadata": {
  "kernelspec": {
   "display_name": "Python 3",
   "language": "python",
   "name": "python3"
  },
  "language_info": {
   "codemirror_mode": {
    "name": "ipython",
    "version": 3
   },
   "file_extension": ".py",
   "mimetype": "text/x-python",
   "name": "python",
   "nbconvert_exporter": "python",
   "pygments_lexer": "ipython3",
   "version": "3.8.5"
  }
 },
 "nbformat": 4,
 "nbformat_minor": 2
}
