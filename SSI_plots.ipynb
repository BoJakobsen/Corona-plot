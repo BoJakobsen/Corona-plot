{
 "cells": [
  {
   "cell_type": "code",
   "execution_count": null,
   "metadata": {},
   "outputs": [],
   "source": [
    "#Defin todays URL\n",
    "url = 'https://files.ssi.dk/Data-Epidemiologiske-Rapport-30102020-pc29'\n",
    "\n",
    "#Limit dates to plot\n",
    "from_date='2020-08-1'\n",
    "\n"
   ]
  },
  {
   "cell_type": "code",
   "execution_count": null,
   "metadata": {},
   "outputs": [],
   "source": [
    "%matplotlib notebook\n",
    "import matplotlib.pyplot as plt\n",
    "import pandas as pd\n",
    "from pathlib import Path\n",
    "import requests\n",
    "import zipfile"
   ]
  },
  {
   "cell_type": "code",
   "execution_count": null,
   "metadata": {},
   "outputs": [],
   "source": [
    "# Direct download data and unpacking\n",
    "r = requests.get(url, allow_redirects=True)\n",
    "open('data.zip', 'wb').write(r.content)\n",
    "\n",
    "with zipfile.ZipFile(\"data.zip\",\"r\") as zip_ref:\n",
    "    zip_ref.extractall(\"data/\")\n",
    "\n",
    "#define the file to look at\n",
    "datafolder=Path(\"data/\")\n",
    "datafile=datafolder / \"Test_pos_over_time.csv\""
   ]
  },
  {
   "cell_type": "code",
   "execution_count": null,
   "metadata": {},
   "outputs": [],
   "source": [
    "# this is nice, skips bad lines (which does not convert to date) and converts index to date\n",
    "#Notice handeling of danish format of the numbers\n",
    "df=pd.read_csv(datafile,  sep=';', parse_dates=['Date'], index_col=['Date'],error_bad_lines=False, engine='python', skipfooter=2, decimal=',', thousands='.')\n"
   ]
  },
  {
   "cell_type": "code",
   "execution_count": null,
   "metadata": {},
   "outputs": [],
   "source": [
    "# calculate some relevant numbers\n",
    "\n",
    "def calcScaledNumber (row):\n",
    "    if row.NotPrevPos > 0 :\n",
    "        return row.NewPositive / row.NotPrevPos**0.7\n",
    "    else:\n",
    "        return 0\n",
    "    \n",
    "    \n",
    "def calcPosPct (row):\n",
    "    if row.NotPrevPos > 0 :\n",
    "        return row.NewPositive / row.NotPrevPos * 100\n",
    "    else:\n",
    "        return 0\n",
    "\n",
    "df['ScaledNumber']=df.apply(lambda row: calcScaledNumber(row), axis=1)\n",
    "df['PosPct']=df.apply(lambda row: calcPosPct(row), axis=1)\n"
   ]
  },
  {
   "cell_type": "code",
   "execution_count": null,
   "metadata": {},
   "outputs": [],
   "source": [
    "# define a common title\n",
    "title_str='SSI COVID-19 data, tilfælde opgjort på prøvetagningsdato'"
   ]
  },
  {
   "cell_type": "code",
   "execution_count": null,
   "metadata": {},
   "outputs": [],
   "source": [
    "df[from_date:].plot(y='NewPositive',title=title_str,style='.')"
   ]
  },
  {
   "cell_type": "code",
   "execution_count": null,
   "metadata": {},
   "outputs": [],
   "source": [
    "ax=df[from_date:].plot(y='PosPct',title=title_str,label='NewPositive / NotPrevPosTested * 100',style='.')\n",
    "ax.set_ylabel(\"%\")"
   ]
  },
  {
   "cell_type": "code",
   "execution_count": null,
   "metadata": {},
   "outputs": [],
   "source": [
    "df[from_date:].plot(y='ScaledNumber',title=title_str,label='NewPositive / NotPrevPosTested ^ 0.7',style='.')"
   ]
  },
  {
   "cell_type": "code",
   "execution_count": null,
   "metadata": {},
   "outputs": [],
   "source": []
  }
 ],
 "metadata": {
  "kernelspec": {
   "display_name": "Python 3",
   "language": "python",
   "name": "python3"
  },
  "language_info": {
   "codemirror_mode": {
    "name": "ipython",
    "version": 3
   },
   "file_extension": ".py",
   "mimetype": "text/x-python",
   "name": "python",
   "nbconvert_exporter": "python",
   "pygments_lexer": "ipython3",
   "version": "3.7.6"
  }
 },
 "nbformat": 4,
 "nbformat_minor": 2
}
