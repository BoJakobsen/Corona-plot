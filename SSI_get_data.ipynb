{
 "cells": [
  {
   "cell_type": "markdown",
   "metadata": {},
   "source": [
    "Notebook for getting todays (or a defined days) Corona data from SSI \n",
    "https://covid19.ssi.dk/overvagningsdata/download-fil-med-overvaagningdata\n",
    "\n",
    "Data are stored in subfolder : data\n",
    "Date of current dataset is stored in file: data_date.dat\n"
   ]
  },
  {
   "cell_type": "code",
   "execution_count": null,
   "metadata": {},
   "outputs": [],
   "source": [
    "import pandas as pd\n",
    "from pathlib import Path\n",
    "import requests\n",
    "import zipfile\n",
    "from bs4 import BeautifulSoup\n",
    "from urllib.request import Request, urlopen\n",
    "from datetime import date, timedelta\n",
    "import pickle"
   ]
  },
  {
   "cell_type": "code",
   "execution_count": null,
   "metadata": {},
   "outputs": [],
   "source": [
    "#Define date of today used format\n",
    "d=date.today()\n",
    "date_str=d.strftime(\"%d%m%Y\")\n",
    "\n",
    "#Define a manual date (e.g. if running on a date where no new data is uploaded)\n",
    "#date_str=\"16122020\""
   ]
  },
  {
   "cell_type": "code",
   "execution_count": null,
   "metadata": {},
   "outputs": [],
   "source": [
    "# Find link to latest file from the web page\n",
    "# assumes stabel initial part of filename and webpage location\n",
    "#req = Request(\"https://www.ssi.dk/sygdomme-beredskab-og-forskning/sygdomsovervaagning/c/covid19-overvaagning\")\n",
    "req = Request(\"https://covid19.ssi.dk/overvagningsdata/download-fil-med-overvaagningdata\")\n",
    "html_page = urlopen(req)\n",
    "soup = BeautifulSoup(html_page, \"html\")\n",
    "                     \n",
    "for link in soup.findAll('a'):\n",
    "    ref=link.get('href')\n",
    "    if isinstance(ref, str) and \"data-epidemiologiske-rapport\" in ref.lower() and date_str in ref.lower(): # NB compare in lower case\n",
    "        print(\"url for zip file: \" + link.get('href'))\n",
    "        url=link.get('href')\n",
    "        #date_str = url[50:58]\n",
    "    if isinstance(ref, str) and \"data-epidemiologisk-rapport-\" in ref.lower() and date_str in ref.lower(): # NB compare in lower case\n",
    "        print(\"url for zip file: \" + link.get('href'))\n",
    "        url=link.get('href')\n",
    "        #date_str = url[49:57]\n",
    "\n",
    "        \n",
    "\n"
   ]
  },
  {
   "cell_type": "code",
   "execution_count": null,
   "metadata": {},
   "outputs": [],
   "source": [
    "#Defin todays URL manualy if above code breaks\n",
    "#url = 'https://files.ssi.dk/Data-epidemiologisk-rapport-09112020-1puf'\n",
    "#url='https://files.ssi.dk/covid19/overvagning/data/data-epidemiologiske-rapport-12112020-ql82'\n",
    "\n"
   ]
  },
  {
   "cell_type": "code",
   "execution_count": null,
   "metadata": {},
   "outputs": [],
   "source": [
    "# Direct download data and unpacking\n",
    "r = requests.get(url, allow_redirects=True)\n",
    "open('data.zip', 'wb').write(r.content)\n",
    "\n",
    "with zipfile.ZipFile(\"data.zip\",\"r\") as zip_ref:\n",
    "    zip_ref.extractall(\"data/\")\n",
    "\n"
   ]
  },
  {
   "cell_type": "code",
   "execution_count": null,
   "metadata": {},
   "outputs": [],
   "source": [
    "# save date_str \n",
    "f = open(\"data_date.dat\", 'wb')\n",
    "pickle.dump(date_str, f)\n",
    "f.close()\n"
   ]
  },
  {
   "cell_type": "code",
   "execution_count": null,
   "metadata": {},
   "outputs": [],
   "source": []
  }
 ],
 "metadata": {
  "kernelspec": {
   "display_name": "Python 3",
   "language": "python",
   "name": "python3"
  },
  "language_info": {
   "codemirror_mode": {
    "name": "ipython",
    "version": 3
   },
   "file_extension": ".py",
   "mimetype": "text/x-python",
   "name": "python",
   "nbconvert_exporter": "python",
   "pygments_lexer": "ipython3",
   "version": "3.7.3"
  }
 },
 "nbformat": 4,
 "nbformat_minor": 2
}
